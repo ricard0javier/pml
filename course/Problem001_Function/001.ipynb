{
  "nbformat": 4,
  "nbformat_minor": 0,
  "metadata": {
    "kernelspec": {
      "display_name": "Python 3",
      "language": "python",
      "name": "python3"
    },
    "language_info": {
      "codemirror_mode": {
        "name": "ipython",
        "version": 3
      },
      "file_extension": ".py",
      "mimetype": "text/x-python",
      "name": "python",
      "nbconvert_exporter": "python",
      "pygments_lexer": "ipython3",
      "version": "3.6.5"
    },
    "colab": {
      "name": "001.ipynb",
      "provenance": [],
      "include_colab_link": true
    }
  },
  "cells": [
    {
      "cell_type": "markdown",
      "metadata": {
        "id": "view-in-github",
        "colab_type": "text"
      },
      "source": [
        "<a href=\"https://colab.research.google.com/github/ricard0javier/pml/blob/master/course/Problem001_Function/001.ipynb\" target=\"_parent\"><img src=\"https://colab.research.google.com/assets/colab-badge.svg\" alt=\"Open In Colab\"/></a>"
      ]
    },
    {
      "cell_type": "markdown",
      "metadata": {
        "id": "eUuMRJ9y16Q1"
      },
      "source": [
        "## Problem 1.1 Functions\n",
        "\n",
        "implement following simple functions"
      ]
    },
    {
      "cell_type": "code",
      "metadata": {
        "id": "L5giLVr116Q3"
      },
      "source": [
        "def square(x):\n",
        "    print(\"trying\")\n",
        "\n",
        "def times2(x):\n",
        "    #TBD\n",
        "    pass\n",
        "\n",
        "def average(x1, x2, x3, x4, x5):\n",
        "    #TBD\n",
        "    pass"
      ],
      "execution_count": 1,
      "outputs": []
    }
  ]
}